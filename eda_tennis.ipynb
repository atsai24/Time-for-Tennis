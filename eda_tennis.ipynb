{
 "cells": [
  {
   "cell_type": "code",
   "execution_count": 2,
   "metadata": {},
   "outputs": [],
   "source": [
    "import pandas as pd\n",
    "import numpy as np\n",
    "import matplotlib.pyplot as plt\n",
    "from scipy.stats import stats\n"
   ]
  },
  {
   "cell_type": "code",
   "execution_count": 3,
   "metadata": {},
   "outputs": [],
   "source": [
    "serve_data = pd.read_csv('data/serve_times.txt')"
   ]
  },
  {
   "cell_type": "code",
   "execution_count": 5,
   "metadata": {},
   "outputs": [
    {
     "name": "stdout",
     "output_type": "stream",
     "text": [
      "<class 'pandas.core.frame.DataFrame'>\n",
      "RangeIndex: 120 entries, 0 to 119\n",
      "Data columns (total 7 columns):\n",
      " #   Column                     Non-Null Count  Dtype \n",
      "---  ------                     --------------  ----- \n",
      " 0   server                     120 non-null    object\n",
      " 1   seconds_before_next_point  120 non-null    int64 \n",
      " 2   day                        120 non-null    object\n",
      " 3   opponent                   120 non-null    object\n",
      " 4   game_score                 120 non-null    object\n",
      " 5   set                        120 non-null    int64 \n",
      " 6   game                       120 non-null    object\n",
      "dtypes: int64(2), object(5)\n",
      "memory usage: 6.7+ KB\n"
     ]
    }
   ],
   "source": [
    "serve_data.info()"
   ]
  },
  {
   "cell_type": "code",
   "execution_count": 31,
   "metadata": {
    "scrolled": false
   },
   "outputs": [
    {
     "data": {
      "text/html": [
       "<div>\n",
       "<style scoped>\n",
       "    .dataframe tbody tr th:only-of-type {\n",
       "        vertical-align: middle;\n",
       "    }\n",
       "\n",
       "    .dataframe tbody tr th {\n",
       "        vertical-align: top;\n",
       "    }\n",
       "\n",
       "    .dataframe thead th {\n",
       "        text-align: right;\n",
       "    }\n",
       "</style>\n",
       "<table border=\"1\" class=\"dataframe\">\n",
       "  <thead>\n",
       "    <tr style=\"text-align: right;\">\n",
       "      <th></th>\n",
       "      <th>server</th>\n",
       "      <th>seconds_before_next_point</th>\n",
       "      <th>day</th>\n",
       "      <th>opponent</th>\n",
       "      <th>game_score</th>\n",
       "      <th>set</th>\n",
       "      <th>game</th>\n",
       "    </tr>\n",
       "  </thead>\n",
       "  <tbody>\n",
       "    <tr>\n",
       "      <th>0</th>\n",
       "      <td>Nicolas Almagro</td>\n",
       "      <td>22</td>\n",
       "      <td>28-May-15</td>\n",
       "      <td>Rafael Nadal</td>\n",
       "      <td>15-30</td>\n",
       "      <td>1</td>\n",
       "      <td>0-0</td>\n",
       "    </tr>\n",
       "    <tr>\n",
       "      <th>1</th>\n",
       "      <td>Nicolas Almagro</td>\n",
       "      <td>19</td>\n",
       "      <td>28-May-15</td>\n",
       "      <td>Rafael Nadal</td>\n",
       "      <td>15-40</td>\n",
       "      <td>1</td>\n",
       "      <td>0-0</td>\n",
       "    </tr>\n",
       "    <tr>\n",
       "      <th>2</th>\n",
       "      <td>Nicolas Almagro</td>\n",
       "      <td>23</td>\n",
       "      <td>28-May-15</td>\n",
       "      <td>Rafael Nadal</td>\n",
       "      <td>30-40</td>\n",
       "      <td>1</td>\n",
       "      <td>0-0</td>\n",
       "    </tr>\n",
       "    <tr>\n",
       "      <th>3</th>\n",
       "      <td>Nicolas Almagro</td>\n",
       "      <td>24</td>\n",
       "      <td>28-May-15</td>\n",
       "      <td>Rafael Nadal</td>\n",
       "      <td>Deuce</td>\n",
       "      <td>1</td>\n",
       "      <td>0-0</td>\n",
       "    </tr>\n",
       "    <tr>\n",
       "      <th>4</th>\n",
       "      <td>Nicolas Almagro</td>\n",
       "      <td>19</td>\n",
       "      <td>28-May-15</td>\n",
       "      <td>Rafael Nadal</td>\n",
       "      <td>Ad-in</td>\n",
       "      <td>1</td>\n",
       "      <td>0-0</td>\n",
       "    </tr>\n",
       "    <tr>\n",
       "      <th>5</th>\n",
       "      <td>Pablo Andujar</td>\n",
       "      <td>34</td>\n",
       "      <td>28-May-15</td>\n",
       "      <td>Philipp Kohlschreiber</td>\n",
       "      <td>40-30</td>\n",
       "      <td>5</td>\n",
       "      <td>2-4</td>\n",
       "    </tr>\n",
       "    <tr>\n",
       "      <th>6</th>\n",
       "      <td>Bernard Tomic</td>\n",
       "      <td>21</td>\n",
       "      <td>28-May-15</td>\n",
       "      <td>Thanasi Kokkinakis</td>\n",
       "      <td>30-40</td>\n",
       "      <td>3</td>\n",
       "      <td>0-1</td>\n",
       "    </tr>\n",
       "    <tr>\n",
       "      <th>7</th>\n",
       "      <td>Bernard Tomic</td>\n",
       "      <td>17</td>\n",
       "      <td>28-May-15</td>\n",
       "      <td>Thanasi Kokkinakis</td>\n",
       "      <td>Deuce</td>\n",
       "      <td>3</td>\n",
       "      <td>0-1</td>\n",
       "    </tr>\n",
       "    <tr>\n",
       "      <th>8</th>\n",
       "      <td>Bernard Tomic</td>\n",
       "      <td>17</td>\n",
       "      <td>28-May-15</td>\n",
       "      <td>Thanasi Kokkinakis</td>\n",
       "      <td>Ad-in</td>\n",
       "      <td>3</td>\n",
       "      <td>0-1</td>\n",
       "    </tr>\n",
       "    <tr>\n",
       "      <th>9</th>\n",
       "      <td>Rafael Nadal</td>\n",
       "      <td>34</td>\n",
       "      <td>28-May-15</td>\n",
       "      <td>Nicolas Almagro</td>\n",
       "      <td>15-30</td>\n",
       "      <td>1</td>\n",
       "      <td>0-1</td>\n",
       "    </tr>\n",
       "    <tr>\n",
       "      <th>10</th>\n",
       "      <td>Rafael Nadal</td>\n",
       "      <td>29</td>\n",
       "      <td>28-May-15</td>\n",
       "      <td>Nicolas Almagro</td>\n",
       "      <td>30-30</td>\n",
       "      <td>1</td>\n",
       "      <td>0-1</td>\n",
       "    </tr>\n",
       "    <tr>\n",
       "      <th>11</th>\n",
       "      <td>Rafael Nadal</td>\n",
       "      <td>33</td>\n",
       "      <td>28-May-15</td>\n",
       "      <td>Nicolas Almagro</td>\n",
       "      <td>30-40</td>\n",
       "      <td>1</td>\n",
       "      <td>0-1</td>\n",
       "    </tr>\n",
       "    <tr>\n",
       "      <th>12</th>\n",
       "      <td>Rafael Nadal</td>\n",
       "      <td>23</td>\n",
       "      <td>28-May-15</td>\n",
       "      <td>Nicolas Almagro</td>\n",
       "      <td>Deuce</td>\n",
       "      <td>1</td>\n",
       "      <td>0-1</td>\n",
       "    </tr>\n",
       "    <tr>\n",
       "      <th>13</th>\n",
       "      <td>Rafael Nadal</td>\n",
       "      <td>27</td>\n",
       "      <td>28-May-15</td>\n",
       "      <td>Nicolas Almagro</td>\n",
       "      <td>Ad-in</td>\n",
       "      <td>1</td>\n",
       "      <td>0-1</td>\n",
       "    </tr>\n",
       "    <tr>\n",
       "      <th>14</th>\n",
       "      <td>Pablo Andujar</td>\n",
       "      <td>26</td>\n",
       "      <td>28-May-15</td>\n",
       "      <td>Philipp Kohlschreiber</td>\n",
       "      <td>15-30</td>\n",
       "      <td>5</td>\n",
       "      <td>4-4</td>\n",
       "    </tr>\n",
       "    <tr>\n",
       "      <th>15</th>\n",
       "      <td>Pablo Andujar</td>\n",
       "      <td>24</td>\n",
       "      <td>28-May-15</td>\n",
       "      <td>Philipp Kohlschreiber</td>\n",
       "      <td>30-30</td>\n",
       "      <td>5</td>\n",
       "      <td>4-4</td>\n",
       "    </tr>\n",
       "    <tr>\n",
       "      <th>16</th>\n",
       "      <td>Pablo Andujar</td>\n",
       "      <td>32</td>\n",
       "      <td>28-May-15</td>\n",
       "      <td>Philipp Kohlschreiber</td>\n",
       "      <td>40-30</td>\n",
       "      <td>5</td>\n",
       "      <td>4-4</td>\n",
       "    </tr>\n",
       "    <tr>\n",
       "      <th>17</th>\n",
       "      <td>Bernard Tomic</td>\n",
       "      <td>21</td>\n",
       "      <td>28-May-15</td>\n",
       "      <td>Thanasi Kokkinakis</td>\n",
       "      <td>15-40</td>\n",
       "      <td>3</td>\n",
       "      <td>1-2</td>\n",
       "    </tr>\n",
       "    <tr>\n",
       "      <th>18</th>\n",
       "      <td>Bernard Tomic</td>\n",
       "      <td>15</td>\n",
       "      <td>28-May-15</td>\n",
       "      <td>Thanasi Kokkinakis</td>\n",
       "      <td>30-40</td>\n",
       "      <td>3</td>\n",
       "      <td>1-2</td>\n",
       "    </tr>\n",
       "    <tr>\n",
       "      <th>19</th>\n",
       "      <td>Bernard Tomic</td>\n",
       "      <td>18</td>\n",
       "      <td>28-May-15</td>\n",
       "      <td>Thanasi Kokkinakis</td>\n",
       "      <td>Deuce</td>\n",
       "      <td>3</td>\n",
       "      <td>1-2</td>\n",
       "    </tr>\n",
       "  </tbody>\n",
       "</table>\n",
       "</div>"
      ],
      "text/plain": [
       "             server  seconds_before_next_point        day  \\\n",
       "0   Nicolas Almagro                         22  28-May-15   \n",
       "1   Nicolas Almagro                         19  28-May-15   \n",
       "2   Nicolas Almagro                         23  28-May-15   \n",
       "3   Nicolas Almagro                         24  28-May-15   \n",
       "4   Nicolas Almagro                         19  28-May-15   \n",
       "5     Pablo Andujar                         34  28-May-15   \n",
       "6     Bernard Tomic                         21  28-May-15   \n",
       "7     Bernard Tomic                         17  28-May-15   \n",
       "8     Bernard Tomic                         17  28-May-15   \n",
       "9      Rafael Nadal                         34  28-May-15   \n",
       "10     Rafael Nadal                         29  28-May-15   \n",
       "11     Rafael Nadal                         33  28-May-15   \n",
       "12     Rafael Nadal                         23  28-May-15   \n",
       "13     Rafael Nadal                         27  28-May-15   \n",
       "14    Pablo Andujar                         26  28-May-15   \n",
       "15    Pablo Andujar                         24  28-May-15   \n",
       "16    Pablo Andujar                         32  28-May-15   \n",
       "17    Bernard Tomic                         21  28-May-15   \n",
       "18    Bernard Tomic                         15  28-May-15   \n",
       "19    Bernard Tomic                         18  28-May-15   \n",
       "\n",
       "                 opponent game_score  set game  \n",
       "0            Rafael Nadal      15-30    1  0-0  \n",
       "1            Rafael Nadal      15-40    1  0-0  \n",
       "2            Rafael Nadal      30-40    1  0-0  \n",
       "3            Rafael Nadal      Deuce    1  0-0  \n",
       "4            Rafael Nadal      Ad-in    1  0-0  \n",
       "5   Philipp Kohlschreiber      40-30    5  2-4  \n",
       "6      Thanasi Kokkinakis      30-40    3  0-1  \n",
       "7      Thanasi Kokkinakis      Deuce    3  0-1  \n",
       "8      Thanasi Kokkinakis      Ad-in    3  0-1  \n",
       "9         Nicolas Almagro      15-30    1  0-1  \n",
       "10        Nicolas Almagro      30-30    1  0-1  \n",
       "11        Nicolas Almagro      30-40    1  0-1  \n",
       "12        Nicolas Almagro      Deuce    1  0-1  \n",
       "13        Nicolas Almagro      Ad-in    1  0-1  \n",
       "14  Philipp Kohlschreiber      15-30    5  4-4  \n",
       "15  Philipp Kohlschreiber      30-30    5  4-4  \n",
       "16  Philipp Kohlschreiber      40-30    5  4-4  \n",
       "17     Thanasi Kokkinakis      15-40    3  1-2  \n",
       "18     Thanasi Kokkinakis      30-40    3  1-2  \n",
       "19     Thanasi Kokkinakis      Deuce    3  1-2  "
      ]
     },
     "execution_count": 31,
     "metadata": {},
     "output_type": "execute_result"
    }
   ],
   "source": [
    "serve_data.head(20)"
   ]
  },
  {
   "cell_type": "code",
   "execution_count": 203,
   "metadata": {},
   "outputs": [
    {
     "data": {
      "image/png": "[encoded data removed]",
      "text/plain": [
       "<Figure size 432x288 with 1 Axes>"
      ]
     },
     "metadata": {
      "needs_background": "light"
     },
     "output_type": "display_data"
    }
   ],
   "source": [
    "#Distribution of Serve Times\n",
    "serve_time_mean = np.mean(serve_data['seconds_before_next_point'])\n",
    "fig, ax = plt.subplots()\n",
    "ax.hist(serve_data['seconds_before_next_point'], bins = 15, range = (5, 40), color = 'g', alpha = .5)\n",
    "ax.axvline(serve_time_mean, color = 'k', linestyle = 'dashed', alpha = .75, linewidth = 1.2)\n",
    "ymin, ymax = ax.get_ylim()\n",
    "ax.text(serve_time_mean * 1.05, ymax * .9, f'Mean: {round(serve_time_mean,3)}')\n",
    "ax.set_title('Histogram of Serve Times')\n",
    "ax.set_ylabel(\"Count\")\n",
    "ax.set_xlabel(\"Time Before Next Serve\");"
   ]
  },
  {
   "cell_type": "code",
   "execution_count": 52,
   "metadata": {},
   "outputs": [],
   "source": [
    "#create boolean indexes for high-pressure and not high-pressure points\n",
    "bool_index_40 = serve_data['game_score'].str.contains('40')\n",
    "bool_index_ad = serve_data['game_score'].str.contains('Ad')\n",
    "\n",
    "not_bool_index_40 = pd.Series([not opp for opp in bool_index_40])\n",
    "not_bool_index_ad = pd.Series([not opp for opp in bool_index_ad])"
   ]
  },
  {
   "cell_type": "code",
   "execution_count": 67,
   "metadata": {},
   "outputs": [],
   "source": [
    "#DataFrame consisting of only high pressure points\n",
    "hp_data = serve_data[bool_index_40 | bool_index_ad]"
   ]
  },
  {
   "cell_type": "code",
   "execution_count": 68,
   "metadata": {},
   "outputs": [
    {
     "name": "stdout",
     "output_type": "stream",
     "text": [
      "<class 'pandas.core.frame.DataFrame'>\n",
      "Int64Index: 57 entries, 1 to 119\n",
      "Data columns (total 7 columns):\n",
      " #   Column                     Non-Null Count  Dtype \n",
      "---  ------                     --------------  ----- \n",
      " 0   server                     57 non-null     object\n",
      " 1   seconds_before_next_point  57 non-null     int64 \n",
      " 2   day                        57 non-null     object\n",
      " 3   opponent                   57 non-null     object\n",
      " 4   game_score                 57 non-null     object\n",
      " 5   set                        57 non-null     int64 \n",
      " 6   game                       57 non-null     object\n",
      "dtypes: int64(2), object(5)\n",
      "memory usage: 3.6+ KB\n"
     ]
    }
   ],
   "source": [
    "hp_data.info()"
   ]
  },
  {
   "cell_type": "code",
   "execution_count": 62,
   "metadata": {},
   "outputs": [
    {
     "name": "stdout",
     "output_type": "stream",
     "text": [
      "<class 'pandas.core.frame.DataFrame'>\n",
      "Int64Index: 63 entries, 0 to 118\n",
      "Data columns (total 7 columns):\n",
      " #   Column                     Non-Null Count  Dtype \n",
      "---  ------                     --------------  ----- \n",
      " 0   server                     63 non-null     object\n",
      " 1   seconds_before_next_point  63 non-null     int64 \n",
      " 2   day                        63 non-null     object\n",
      " 3   opponent                   63 non-null     object\n",
      " 4   game_score                 63 non-null     object\n",
      " 5   set                        63 non-null     int64 \n",
      " 6   game                       63 non-null     object\n",
      "dtypes: int64(2), object(5)\n",
      "memory usage: 3.9+ KB\n"
     ]
    }
   ],
   "source": [
    "#DataFrame consisting of only not high-pressure points\n",
    "not_hp_data = serve_data[not_bool_index_40 & not_bool_index_ad]\n",
    "not_hp_data.info()"
   ]
  },
  {
   "cell_type": "code",
   "execution_count": 204,
   "metadata": {},
   "outputs": [
    {
     "data": {
      "text/plain": [
       "20.358333333333334"
      ]
     },
     "execution_count": 204,
     "metadata": {},
     "output_type": "execute_result"
    }
   ],
   "source": [
    "#avg time between all points\n",
    "serve_time_mean"
   ]
  },
  {
   "cell_type": "code",
   "execution_count": 209,
   "metadata": {},
   "outputs": [
    {
     "data": {
      "text/plain": [
       "21.263157894736842"
      ]
     },
     "execution_count": 209,
     "metadata": {},
     "output_type": "execute_result"
    }
   ],
   "source": [
    "#avg time before high-pressure point\n",
    "hp_time_mean = np.mean(hp_data['seconds_before_next_point'])\n",
    "hp_time_mean"
   ]
  },
  {
   "cell_type": "code",
   "execution_count": 220,
   "metadata": {},
   "outputs": [
    {
     "data": {
      "text/plain": [
       "19.53968253968254"
      ]
     },
     "execution_count": 220,
     "metadata": {},
     "output_type": "execute_result"
    }
   ],
   "source": [
    "#avg time before not high-pressure point\n",
    "not_hp_time_mean = np.mean(not_hp_data['seconds_before_next_point'])\n",
    "not_hp_time_mean"
   ]
  },
  {
   "cell_type": "code",
   "execution_count": 216,
   "metadata": {},
   "outputs": [
    {
     "data": {
      "image/png": "[encoded data removed]",
      "text/plain": [
       "<Figure size 432x288 with 1 Axes>"
      ]
     },
     "metadata": {
      "needs_background": "light"
     },
     "output_type": "display_data"
    }
   ],
   "source": [
    "fig, ax = plt.subplots()\n",
    "ax.hist(hp_data['seconds_before_next_point'], bins = 15, range = (5, 40), color = 'g', alpha = .5)\n",
    "ax.axvline(hp_time_mean, color = 'k', linestyle = 'dashed', alpha = .75, linewidth = 1.2)\n",
    "ymin, ymax = ax.get_ylim()\n",
    "ax.text(hp_time_mean * 1.05, ymax * .9, f'Mean: {round(hp_time_mean,3)}')\n",
    "ax.set_title(\"Histogram of Serve Times (High Pressure)\")\n",
    "ax.set_ylabel(\"Count\")\n",
    "ax.set_xlabel(\"Time Before Next Serve\");"
   ]
  },
  {
   "cell_type": "code",
   "execution_count": 218,
   "metadata": {},
   "outputs": [
    {
     "data": {
      "image/png": "[encoded data removed]",
      "text/plain": [
       "<Figure size 432x288 with 1 Axes>"
      ]
     },
     "metadata": {
      "needs_background": "light"
     },
     "output_type": "display_data"
    }
   ],
   "source": [
    "fig, ax = plt.subplots()\n",
    "ax.hist(not_hp_data['seconds_before_next_point'], bins = 15, range = (5, 40), color = 'g', alpha = .5)\n",
    "ax.axvline(not_hp_time_mean, color = 'k', linestyle = 'dashed', alpha = .75, linewidth = 1.2)\n",
    "ymin, ymax = ax.get_ylim()\n",
    "ax.text(not_hp_time_mean * 1.05, ymax * .9, f'Mean: {round(hp_time_mean,3)}')\n",
    "ax.set_title(\"Histogram of Serve Times (Not High Pressure)\")\n",
    "ax.set_ylabel(\"Count\")\n",
    "ax.set_xlabel(\"Time Before Next Serve\");"
   ]
  },
  {
   "cell_type": "code",
   "execution_count": 151,
   "metadata": {},
   "outputs": [],
   "source": [
    "#Find avg time before serve for grouped by score\n",
    "time_per_score = serve_data[['seconds_before_next_point','game_score']].groupby('game_score').aggregate(np.mean)\n",
    "score_index = ['0-15', '0-30', '15-0', '15-15', '15-30', '30-0',\n",
    "       '30-15', '30-30', 'Deuce', '40-0', '40-15', '40-30', 'Ad-in','30-40','15-40','0-40', 'Ad-out'\n",
    "       ]\n",
    "\n",
    "score_counts = [sum(serve_data['game_score'] == score) for score in score_index]\n",
    "score_counts_norm = [float(i)/max(score_counts) for i in score_counts]"
   ]
  },
  {
   "cell_type": "code",
   "execution_count": 164,
   "metadata": {},
   "outputs": [
    {
     "data": {
      "image/png": "[encoded data removed]",
      "text/plain": [
       "<Figure size 1440x720 with 1 Axes>"
      ]
     },
     "metadata": {
      "needs_background": "light"
     },
     "output_type": "display_data"
    }
   ],
   "source": [
    "#bar graph of avg time between points for each game score, shaded by number of times per point\n",
    "fig, ax = plt.subplots(figsize = (20, 10))\n",
    "for i in range(len(score_index)):\n",
    "    ax.bar(score_index[i], time_per_score['seconds_before_next_point'][i], alpha = score_counts_norm[i], color = 'forestgreen')\n",
    "ax.set_xlabel('Game Score')\n",
    "ax.set_ylabel('Time Before Next Serve')\n",
    "ax.set_title('Time Before Each Point by Game Score');"
   ]
  },
  {
   "cell_type": "code",
   "execution_count": 122,
   "metadata": {},
   "outputs": [
    {
     "name": "stdout",
     "output_type": "stream",
     "text": [
      "<class 'pandas.core.frame.DataFrame'>\n",
      "Int64Index: 24 entries, 1 to 119\n",
      "Data columns (total 7 columns):\n",
      " #   Column                     Non-Null Count  Dtype \n",
      "---  ------                     --------------  ----- \n",
      " 0   server                     24 non-null     object\n",
      " 1   seconds_before_next_point  24 non-null     int64 \n",
      " 2   day                        24 non-null     object\n",
      " 3   opponent                   24 non-null     object\n",
      " 4   game_score                 24 non-null     object\n",
      " 5   set                        24 non-null     int64 \n",
      " 6   game                       24 non-null     object\n",
      "dtypes: int64(2), object(5)\n",
      "memory usage: 1.5+ KB\n",
      "<class 'pandas.core.frame.DataFrame'>\n",
      "Int64Index: 33 entries, 4 to 117\n",
      "Data columns (total 7 columns):\n",
      " #   Column                     Non-Null Count  Dtype \n",
      "---  ------                     --------------  ----- \n",
      " 0   server                     33 non-null     object\n",
      " 1   seconds_before_next_point  33 non-null     int64 \n",
      " 2   day                        33 non-null     object\n",
      " 3   opponent                   33 non-null     object\n",
      " 4   game_score                 33 non-null     object\n",
      " 5   set                        33 non-null     int64 \n",
      " 6   game                       33 non-null     object\n",
      "dtypes: int64(2), object(5)\n",
      "memory usage: 2.1+ KB\n"
     ]
    }
   ],
   "source": [
    "#split high-pressure points by about to win or about to lose\n",
    "about_to_lose_idx = ['30-40', '15-40','0-40', 'Ad-out']\n",
    "about_to_win_idx = ['40-0', '40-15', '40-30', 'Ad-in']\n",
    "\n",
    "bool_about_to_lose = pd.Series([True if item in about_to_lose_idx else False for item in serve_data['game_score']])\n",
    "bool_about_to_win = pd.Series([True if item in about_to_win_idx else False for item in serve_data['game_score']])\n",
    "\n",
    "about_to_lose_df = serve_data[bool_about_to_lose]\n",
    "about_to_win_df = serve_data[bool_about_to_win]\n",
    "\n",
    "about_to_lose_df.info()\n",
    "about_to_win_df.info()"
   ]
  },
  {
   "cell_type": "code",
   "execution_count": 221,
   "metadata": {},
   "outputs": [],
   "source": [
    "#avg time before next point if server is about to lose game\n",
    "about_to_lose_mean = np.mean(about_to_lose_df['seconds_before_next_point'])"
   ]
  },
  {
   "cell_type": "code",
   "execution_count": 222,
   "metadata": {},
   "outputs": [],
   "source": [
    "#avg time before next point if server is about to win\n",
    "about_to_win_mean = np.mean(about_to_win_df['seconds_before_next_point'])"
   ]
  },
  {
   "cell_type": "code",
   "execution_count": 224,
   "metadata": {},
   "outputs": [
    {
     "data": {
      "image/png": "[encoded data removed]",
      "text/plain": [
       "<Figure size 432x288 with 1 Axes>"
      ]
     },
     "metadata": {
      "needs_background": "light"
     },
     "output_type": "display_data"
    }
   ],
   "source": [
    "fig, ax = plt.subplots()\n",
    "ax.hist(about_to_lose_df['seconds_before_next_point'], bins = 15, range = (5, 40), color = 'g', alpha = .5)\n",
    "ax.axvline(about_to_lose_mean, color = 'k', linestyle = 'dashed', alpha = .75, linewidth = 1.2)\n",
    "ymin, ymax = ax.get_ylim()\n",
    "ax.text(about_to_lose_mean * 1.05, ymax * .9, f'Mean: {round(about_to_lose_mean,3)}')\n",
    "ax.set_title('Histogram of Serve Times When About To Lose')\n",
    "ax.set_ylabel(\"Count\")\n",
    "ax.set_xlabel(\"Time Before Next Serve\");"
   ]
  },
  {
   "cell_type": "code",
   "execution_count": 225,
   "metadata": {},
   "outputs": [
    {
     "data": {
      "image/png": "[encoded data removed]",
      "text/plain": [
       "<Figure size 432x288 with 1 Axes>"
      ]
     },
     "metadata": {
      "needs_background": "light"
     },
     "output_type": "display_data"
    }
   ],
   "source": [
    "fig, ax = plt.subplots()\n",
    "ax.hist(about_to_win_df['seconds_before_next_point'], bins = 15, range = (5, 40), color = 'g', alpha = .5)\n",
    "ax.axvline(about_to_win_mean, color = 'k', linestyle = 'dashed', alpha = .75, linewidth = 1.2)\n",
    "ymin, ymax = ax.get_ylim()\n",
    "ax.text(about_to_win_mean * 1.05, ymax * .9, f'Mean: {round(about_to_win_mean,3)}')\n",
    "ax.set_title('Histogram of Serve Times')\n",
    "ax.set_ylabel(\"Count\")\n",
    "ax.set_xlabel(\"Time Before Next Serve\");"
   ]
  },
  {
   "cell_type": "code",
   "execution_count": null,
   "metadata": {},
   "outputs": [],
   "source": []
  }
 ],
 "metadata": {
  "kernelspec": {
   "display_name": "Python 3",
   "language": "python",
   "name": "python3"
  },
  "language_info": {
   "codemirror_mode": {
    "name": "ipython",
    "version": 3
   },
   "file_extension": ".py",
   "mimetype": "text/x-python",
   "name": "python",
   "nbconvert_exporter": "python",
   "pygments_lexer": "ipython3",
   "version": "3.7.7"
  }
 },
 "nbformat": 4,
 "nbformat_minor": 4
}
